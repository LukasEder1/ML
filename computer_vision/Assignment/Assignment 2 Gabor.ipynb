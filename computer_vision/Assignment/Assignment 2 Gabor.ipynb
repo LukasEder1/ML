{
 "cells": [
  {
   "cell_type": "code",
   "execution_count": 5,
   "metadata": {},
   "outputs": [],
   "source": [
    "import cv2 as cv\n",
    "import numpy as np\n",
    "import matplotlib.pyplot as plt"
   ]
  },
  {
   "cell_type": "code",
   "execution_count": 8,
   "metadata": {},
   "outputs": [],
   "source": [
    "image = cv.imread(\"test_img.png\")\n",
    "dim = (448,336)\n",
    "image = cv.resize(image, dim)"
   ]
  },
  {
   "cell_type": "code",
   "execution_count": 9,
   "metadata": {},
   "outputs": [
    {
     "data": {
      "text/plain": [
       "'\\ncv.imshow(\"OpenCV Image Reading\", image)\\n\\ncv.waitKey(0)\\n'"
      ]
     },
     "execution_count": 9,
     "metadata": {},
     "output_type": "execute_result"
    }
   ],
   "source": [
    "\"\"\"\n",
    "cv.imshow(\"OpenCV Image Reading\", image)\n",
    "\n",
    "cv.waitKey(0)\n",
    "\"\"\""
   ]
  },
  {
   "cell_type": "code",
   "execution_count": 26,
   "metadata": {},
   "outputs": [],
   "source": [
    "k_size = (15,15) #Use size that makes sense to the image and fetaure size. Large may not be good. \n",
    "#On the synthetic image it is clear how ksize affects imgae (try 5 and 50)\n",
    "sigma = 3.0 #Large sigma on small features will fully miss the features. \n",
    "theta = 1*np.pi/4  #/4 shows horizontal 3/4 shows other horizontal. Try other contributions\n",
    "wavelength = 3  #1/4 works best for angled. \n",
    "gamma=0.9 #Value of 1 defines spherical. Calue close to 0 has high aspect ratio\n",
    "#Value of 1, spherical may not be ideal as it picks up features from other regions.\n",
    "psi = 0.8  #Phase offset. I leave it to 0. (For hidden pic use 0.8)\n",
    "\n",
    "\n",
    "g_kernel1 = cv.getGaborKernel(k_size, sigma, theta, wavelength, gamma, psi, ktype=cv.CV_32F)\n",
    "g_kernel2 = cv.getGaborKernel(k_size, sigma, 2*theta, wavelength, gamma, psi, ktype=cv.CV_32F)\n",
    "g_kernel3 = cv.getGaborKernel(k_size, sigma, 3*theta, wavelength, gamma, psi, ktype=cv.CV_32F)\n",
    "g_kernel4 = cv.getGaborKernel(k_size, sigma, 4*theta, wavelength, gamma, psi, ktype=cv.CV_32F)\n",
    "\n",
    "filtered_img1 = cv.filter2D(image, cv.CV_8UC3, g_kernel1)\n",
    "filtered_img2 = cv.filter2D(image, cv.CV_8UC3, g_kernel2)\n",
    "filtered_img3 = cv.filter2D(image, cv.CV_8UC3, g_kernel3)\n",
    "filtered_img4 = cv.filter2D(image, cv.CV_8UC3, g_kernel4)\n",
    "\n",
    "\n",
    "filter_max1 = np.maximum(image, filtered_img1)\n",
    "filter_max2 = np.maximum(filter_max1, filtered_img2)\n",
    "filter_max3 = np.maximum(filter_max2, filtered_img3)\n",
    "filter_max4 = np.maximum(filter_max3, filtered_img4)"
   ]
  },
  {
   "cell_type": "code",
   "execution_count": 14,
   "metadata": {},
   "outputs": [
    {
     "data": {
      "text/plain": [
       "-1"
      ]
     },
     "execution_count": 14,
     "metadata": {},
     "output_type": "execute_result"
    }
   ],
   "source": [
    "cv.imshow(\"Theta pi/4\", filtered_img1)\n",
    "cv.imshow(\"Theta pi/2\", filtered_img2)\n",
    "cv.imshow(\"Theta 3pi/4\", filtered_img3)\n",
    "cv.imshow(\"Theta pi\", filtered_img4)\n",
    "cv.waitKey(0)"
   ]
  },
  {
   "cell_type": "code",
   "execution_count": 22,
   "metadata": {},
   "outputs": [
    {
     "data": {
      "text/plain": [
       "<matplotlib.image.AxesImage at 0x29f55dab860>"
      ]
     },
     "execution_count": 22,
     "metadata": {},
     "output_type": "execute_result"
    },
    {
     "data": {
      "text/plain": [
       "<Figure size 432x288 with 0 Axes>"
      ]
     },
     "metadata": {},
     "output_type": "display_data"
    },
    {
     "data": {
      "image/png": "[encoded data removed]",
      "text/plain": [
       "<Figure size 432x288 with 4 Axes>"
      ]
     },
     "metadata": {},
     "output_type": "display_data"
    }
   ],
   "source": [
    "plt.figure()\n",
    "\n",
    "#subplot(r,c) provide the no. of rows and columns\n",
    "f, axarr = plt.subplots(1,4) \n",
    "\n",
    "# use the created array to output your multiple images. In this case I have stacked 4 images vertically\n",
    "axarr[0].imshow(g_kernel1)\n",
    "axarr[1].imshow(g_kernel2)\n",
    "axarr[2].imshow(g_kernel3)\n",
    "axarr[3].imshow(g_kernel4)\n",
    "\n",
    "\n"
   ]
  },
  {
   "cell_type": "code",
   "execution_count": 28,
   "metadata": {},
   "outputs": [
    {
     "data": {
      "text/plain": [
       "-1"
      ]
     },
     "execution_count": 28,
     "metadata": {},
     "output_type": "execute_result"
    }
   ],
   "source": [
    "filters = cv.hconcat([filter_max1, filter_max2, filter_max3, filter_max4])\n",
    "cv.imshow('filters', filters)\n",
    "\n",
    "cv.waitKey(0)\n",
    "\n",
    "\n"
   ]
  },
  {
   "cell_type": "code",
   "execution_count": 27,
   "metadata": {},
   "outputs": [
    {
     "data": {
      "text/plain": [
       "True"
      ]
     },
     "execution_count": 27,
     "metadata": {},
     "output_type": "execute_result"
    }
   ],
   "source": [
    "\n",
    "cv.imwrite(\"filter3-1.png\", filter_max1)\n",
    "cv.imwrite(\"filter3-2.png\", filter_max2)\n",
    "cv.imwrite(\"filter3-3.png\", filter_max3)\n",
    "cv.imwrite(\"filter3-4.png\", filter_max4)"
   ]
  },
  {
   "cell_type": "code",
   "execution_count": null,
   "metadata": {},
   "outputs": [],
   "source": [
    "\"\"\"\n",
    "test1\n",
    "k_size = (15,15) #Use size that makes sense to the image and fetaure size. Large may not be good. \n",
    "#On the synthetic image it is clear how ksize affects imgae (try 5 and 50)\n",
    "sigma = 3.0 #Large sigma on small features will fully miss the features. \n",
    "theta = 1*np.pi/4  #/4 shows horizontal 3/4 shows other horizontal. Try other contributions\n",
    "wavelength = 3  #1/4 works best for angled. \n",
    "gamma=0.9 #Value of 1 defines spherical. Calue close to 0 has high aspect ratio\n",
    "#Value of 1, spherical may not be ideal as it picks up features from other regions.\n",
    "psi = 0.8  #Phase offset. I leave it to 0. (For hidden pic use 0.8)\n",
    "\n",
    "test2\n",
    "k_size = (15,15) #Use size that makes sense to the image and fetaure size. Large may not be good. \n",
    "#On the synthetic image it is clear how ksize affects imgae (try 5 and 50)\n",
    "sigma = 3.5 #Large sigma on small features will fully miss the features. \n",
    "theta = 1*np.pi/4  #/4 shows horizontal 3/4 shows other horizontal. Try other contributions\n",
    "wavelength = 1*np.pi/5  #1/4 works best for angled. \n",
    "gamma=0.9 #Value of 1 defines spherical. Calue close to 0 has high aspect ratio\n",
    "#Value of 1, spherical may not be ideal as it picks up features from other regions.\n",
    "psi = 0.8  #Phase offset. I leave it to 0. (For hidden pic use 0.8)\n",
    "\n",
    "test3\n",
    "k_size = (15,15) #Use size that makes sense to the image and fetaure size. Large may not be good. \n",
    "#On the synthetic image it is clear how ksize affects imgae (try 5 and 50)\n",
    "sigma = 3.0 #Large sigma on small features will fully miss the features. \n",
    "theta = 1*np.pi/4  #/4 shows horizontal 3/4 shows other horizontal. Try other contributions\n",
    "wavelength = 5  #1/4 works best for angled. \n",
    "gamma=0.9 #Value of 1 defines spherical. Calue close to 0 has high aspect ratio\n",
    "#Value of 1, spherical may not be ideal as it picks up features from other regions.\n",
    "psi = 0.8  #Phase offset. I leave it to 0. (For hidden pic use 0.8)\n",
    "\n",
    "\"\"\""
   ]
  }
 ],
 "metadata": {
  "kernelspec": {
   "display_name": "Python 3",
   "language": "python",
   "name": "python3"
  },
  "language_info": {
   "codemirror_mode": {
    "name": "ipython",
    "version": 3
   },
   "file_extension": ".py",
   "mimetype": "text/x-python",
   "name": "python",
   "nbconvert_exporter": "python",
   "pygments_lexer": "ipython3",
   "version": "3.6.5"
  }
 },
 "nbformat": 4,
 "nbformat_minor": 2
}
