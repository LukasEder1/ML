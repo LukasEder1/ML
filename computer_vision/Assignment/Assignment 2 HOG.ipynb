{
 "cells": [
  {
   "cell_type": "code",
   "execution_count": 5,
   "metadata": {},
   "outputs": [],
   "source": [
    "import numpy as np\n",
    "import matplotlib.pyplot as plt\n",
    "from skimage.io import imread, imshow\n",
    "from skimage.transform import resize\n",
    "from skimage.feature import hog\n",
    "from skimage import exposure"
   ]
  },
  {
   "cell_type": "code",
   "execution_count": 6,
   "metadata": {},
   "outputs": [],
   "source": [
    "image = imread('test_img.png')\n",
    "# height and width are flipped with scikit-image compared to opencv\n",
    "# so (height,width) is used\n",
    "# height should be double of width for HOG\n",
    "image = resize(image, (256,128)) "
   ]
  },
  {
   "cell_type": "code",
   "execution_count": 59,
   "metadata": {},
   "outputs": [
    {
     "name": "stdout",
     "output_type": "stream",
     "text": [
      "(256, 128, 3)\n"
     ]
    }
   ],
   "source": [
    "print(image.shape)"
   ]
  },
  {
   "cell_type": "code",
   "execution_count": 57,
   "metadata": {},
   "outputs": [],
   "source": [
    "# set visualize to true to obtain  \"hog_image\"\n",
    "# source: https://scikit-image.org/docs/dev/api/skimage.feature.html#skimage.feature.hog\n",
    "# cells_per_block= (2,2) = (2*8, 2*8) = (16, 16)\n",
    "feature_matrix4x4, hog_image4x4 = hog(image, orientations=9, pixels_per_cell=(4, 4), \n",
    "                    cells_per_block=(2, 2), visualize=True)\n",
    "\n",
    "feature_matrix8x8, hog_image8x8 = hog(image, orientations=9, pixels_per_cell=(8, 8), \n",
    "                    cells_per_block=(2, 2), visualize=True)"
   ]
  },
  {
   "cell_type": "code",
   "execution_count": 12,
   "metadata": {},
   "outputs": [
    {
     "name": "stdout",
     "output_type": "stream",
     "text": [
      "0.057177422703794986\n"
     ]
    }
   ],
   "source": [
    "print(feature_matrix4x4[1000])"
   ]
  },
  {
   "cell_type": "code",
   "execution_count": null,
   "metadata": {},
   "outputs": [],
   "source": [
    " "
   ]
  }
 ],
 "metadata": {
  "kernelspec": {
   "display_name": "Python 3",
   "language": "python",
   "name": "python3"
  },
  "language_info": {
   "codemirror_mode": {
    "name": "ipython",
    "version": 3
   },
   "file_extension": ".py",
   "mimetype": "text/x-python",
   "name": "python",
   "nbconvert_exporter": "python",
   "pygments_lexer": "ipython3",
   "version": "3.6.5"
  }
 },
 "nbformat": 4,
 "nbformat_minor": 2
}
