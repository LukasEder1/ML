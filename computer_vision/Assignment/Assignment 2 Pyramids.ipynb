{
 "cells": [
  {
   "cell_type": "code",
   "execution_count": 1,
   "metadata": {},
   "outputs": [],
   "source": [
    "import cv2 as cv\n",
    "import numpy as np\n",
    "import matplotlib.pyplot as plt"
   ]
  },
  {
   "cell_type": "code",
   "execution_count": 2,
   "metadata": {},
   "outputs": [],
   "source": [
    "image = cv.imread(\"test_img.png\")\n",
    "dim = (448,336)\n",
    "image = cv.resize(image, dim)"
   ]
  },
  {
   "cell_type": "code",
   "execution_count": 3,
   "metadata": {},
   "outputs": [],
   "source": [
    "img = image.copy()\n",
    "gaussian_pyr = [img]\n",
    "for i in range(6):\n",
    "    img = cv.pyrDown(gaussian_pyr[i])\n",
    "    gaussian_pyr.append(img)\n",
    "    \n"
   ]
  },
  {
   "cell_type": "code",
   "execution_count": 4,
   "metadata": {},
   "outputs": [],
   "source": [
    "laplacian_pyr = [gaussian_pyr[-1]]\n",
    "for i in range(5,0,-1):\n",
    "    size = (gaussian_pyr[i - 1].shape[1], gaussian_pyr[i - 1].shape[0])\n",
    "    gaussian_expanded = cv.pyrUp(gaussian_pyr[i], dstsize=size)\n",
    "    laplacian = cv.subtract(gaussian_pyr[i-1], gaussian_expanded)\n",
    "    laplacian_pyr.append(laplacian)"
   ]
  },
  {
   "cell_type": "code",
   "execution_count": 28,
   "metadata": {},
   "outputs": [],
   "source": [
    "def write_to_file(pyr,filetyp,filename):\n",
    "    for i in range(len(pyr)):\n",
    "        name = filename+str(i)+\".\"+filetype\n",
    "        cv.imwrite(filename_gaussian, pyr[i])\n",
    "    return True"
   ]
  },
  {
   "cell_type": "code",
   "execution_count": 29,
   "metadata": {},
   "outputs": [
    {
     "data": {
      "text/plain": [
       "True"
      ]
     },
     "execution_count": 29,
     "metadata": {},
     "output_type": "execute_result"
    }
   ],
   "source": [
    "write_to_file(gaussian_pyr, \"jpg\", \"gaussian\")\n",
    "write_to_file(laplacian_pyr, \"jpg\", \"laplacian\")"
   ]
  },
  {
   "cell_type": "code",
   "execution_count": null,
   "metadata": {},
   "outputs": [],
   "source": []
  }
 ],
 "metadata": {
  "kernelspec": {
   "display_name": "Python 3",
   "language": "python",
   "name": "python3"
  },
  "language_info": {
   "codemirror_mode": {
    "name": "ipython",
    "version": 3
   },
   "file_extension": ".py",
   "mimetype": "text/x-python",
   "name": "python",
   "nbconvert_exporter": "python",
   "pygments_lexer": "ipython3",
   "version": "3.6.5"
  }
 },
 "nbformat": 4,
 "nbformat_minor": 2
}
